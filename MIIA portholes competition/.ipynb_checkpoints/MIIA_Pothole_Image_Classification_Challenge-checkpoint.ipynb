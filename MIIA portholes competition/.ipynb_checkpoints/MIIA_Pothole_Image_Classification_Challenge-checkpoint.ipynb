{
 "cells": [
  {
   "cell_type": "markdown",
   "metadata": {
    "id": "y3CJ4KAo8BRX"
   },
   "source": [
    "### IMPORTING LIBRARIES"
   ]
  },
  {
   "cell_type": "code",
   "execution_count": 1,
   "metadata": {
    "id": "3uamHI2G7HID"
   },
   "outputs": [
    {
     "ename": "ModuleNotFoundError",
     "evalue": "No module named 'cv2'",
     "output_type": "error",
     "traceback": [
      "\u001b[0;31m---------------------------------------------------------------------------\u001b[0m",
      "\u001b[0;31mModuleNotFoundError\u001b[0m                       Traceback (most recent call last)",
      "\u001b[0;32m<ipython-input-1-2d809d694084>\u001b[0m in \u001b[0;36m<module>\u001b[0;34m\u001b[0m\n\u001b[1;32m      1\u001b[0m \u001b[0;32mimport\u001b[0m \u001b[0mos\u001b[0m\u001b[0;34m\u001b[0m\u001b[0;34m\u001b[0m\u001b[0m\n\u001b[0;32m----> 2\u001b[0;31m \u001b[0;32mimport\u001b[0m \u001b[0mcv2\u001b[0m\u001b[0;34m\u001b[0m\u001b[0;34m\u001b[0m\u001b[0m\n\u001b[0m\u001b[1;32m      3\u001b[0m \u001b[0;32mimport\u001b[0m \u001b[0mrandom\u001b[0m\u001b[0;34m\u001b[0m\u001b[0;34m\u001b[0m\u001b[0m\n\u001b[1;32m      4\u001b[0m \u001b[0;32mimport\u001b[0m \u001b[0mnumpy\u001b[0m \u001b[0;32mas\u001b[0m \u001b[0mnp\u001b[0m\u001b[0;34m\u001b[0m\u001b[0;34m\u001b[0m\u001b[0m\n\u001b[1;32m      5\u001b[0m \u001b[0;32mimport\u001b[0m \u001b[0mpandas\u001b[0m \u001b[0;32mas\u001b[0m \u001b[0mpd\u001b[0m\u001b[0;34m\u001b[0m\u001b[0;34m\u001b[0m\u001b[0m\n",
      "\u001b[0;31mModuleNotFoundError\u001b[0m: No module named 'cv2'"
     ]
    }
   ],
   "source": [
    "import os\n",
    "import cv2\n",
    "import random\n",
    "import numpy as np\n",
    "import pandas as pd\n",
    "import seaborn as sns\n",
    "import matplotlib.pyplot as plt\n",
    "from sklearn.metrics import roc_curve, auc, roc_auc_score\n",
    "import tensorflow as tf\n",
    "from tensorflow import keras\n",
    "from tensorflow.keras.models import Sequential, Model\n",
    "from tensorflow.keras.preprocessing.image import ImageDataGenerator\n",
    "from tensorflow.keras.layers import Dense, Dropout, Flatten,Conv2D, GlobalAveragePooling2D, BatchNormalization\n",
    "from tensorflow.keras.optimizers import Adam, RMSprop\n",
    "from tensorflow.keras.callbacks import ReduceLROnPlateau, ModelCheckpoint, EarlyStopping\n",
    "from tensorflow.keras.applications import InceptionV3, VGG16\n",
    "from tensorflow.keras.applications.vgg16 import preprocess_input"
   ]
  },
  {
   "cell_type": "code",
   "execution_count": null,
   "metadata": {
    "id": "04kW67Px8AUm"
   },
   "outputs": [],
   "source": [
    "#seed for reproducibility\n",
    "SEED = 42\n",
    "random.seed(SEED)\n",
    "np.random.seed(SEED)\n",
    "tf.random.set_seed(SEED)  "
   ]
  },
  {
   "cell_type": "markdown",
   "metadata": {
    "id": "nfvSJ7Nbt0Xy"
   },
   "source": [
    "### READING DATA\n",
    "\n",
    "- `train_data` & `test_data` are the csv files given on zindi\n",
    "- Both train and test images are in the same folder, so `train_path` and `test_path` are the same"
   ]
  },
  {
   "cell_type": "code",
   "execution_count": null,
   "metadata": {
    "id": "eKE13Ta28So1"
   },
   "outputs": [],
   "source": [
    "#reading data\n",
    "#Change path to your images and csv files path \n",
    "train_data = pd.read_csv('train_ids_labels.csv')\n",
    "test_data = pd.read_csv('test_ids_only.csv')\n",
    "train_path = 'all_data/'\n",
    "test_path = 'all_data/'"
   ]
  },
  {
   "cell_type": "code",
   "execution_count": null,
   "metadata": {
    "colab": {
     "base_uri": "https://localhost:8080/",
     "height": 204
    },
    "id": "3d9tzaeW8ut8",
    "outputId": "173d7dbf-46cb-477a-913b-13c30c98e7d8"
   },
   "outputs": [],
   "source": [
    "train_data.head()"
   ]
  },
  {
   "cell_type": "markdown",
   "metadata": {
    "id": "lcwsUGeJvPJ2"
   },
   "source": [
    "###  creating train and test dataframe\n",
    "\n",
    "- Here we create two dataframes so we can use tensorflows `.flow_from_dataframe` to load our images"
   ]
  },
  {
   "cell_type": "code",
   "execution_count": null,
   "metadata": {
    "id": "uY1uYrTN85Hv"
   },
   "outputs": [],
   "source": [
    "\n",
    "#we will create dataframes and use keras Image data preprocessing function: flow_from_dataframe\n",
    "\n",
    "# train\n",
    "train_names = train_data.Image_ID.values\n",
    "train_labels = np.asarray(train_data['Label'].values)\n",
    "train_dict = {'filepath': train_path + train_names + '.JPG', 'Label': train_labels}\n",
    "train = pd.DataFrame(data=train_dict)\n",
    "\n",
    "# test\n",
    "test_names = test_data.Image_ID.values\n",
    "test_dict = {'filepath': test_path + test_names + '.JPG'}\n",
    "test = pd.DataFrame(data=test_dict)"
   ]
  },
  {
   "cell_type": "code",
   "execution_count": null,
   "metadata": {
    "colab": {
     "base_uri": "https://localhost:8080/",
     "height": 204
    },
    "id": "fkQJjROu_AOT",
    "outputId": "0264ef2a-37fe-4428-f8c5-28f46307498c"
   },
   "outputs": [],
   "source": [
    "train.head()"
   ]
  },
  {
   "cell_type": "code",
   "execution_count": null,
   "metadata": {
    "colab": {
     "base_uri": "https://localhost:8080/"
    },
    "id": "U7qiW4Hn_huy",
    "outputId": "a483bbfa-161c-4a43-aac5-7e847bbb123a"
   },
   "outputs": [],
   "source": [
    "train.shape, test.shape"
   ]
  },
  {
   "cell_type": "markdown",
   "metadata": {
    "id": "ez-Sanak__8J"
   },
   "source": [
    "### Quick EDA"
   ]
  },
  {
   "cell_type": "code",
   "execution_count": null,
   "metadata": {
    "colab": {
     "base_uri": "https://localhost:8080/",
     "height": 404
    },
    "id": "_5z1TQcV_yfu",
    "outputId": "3ac4177a-2805-4a5a-df16-b852d1471da0"
   },
   "outputs": [],
   "source": [
    "#visualizing target distribution \n",
    "f, ax = plt.subplots(1,1, figsize=(8,5))\n",
    "sns.countplot(train['Label'],order = train['Label'].value_counts().index)\n",
    "plt.title(\"Target Distribution\")\n",
    "plt.show()"
   ]
  },
  {
   "cell_type": "code",
   "execution_count": null,
   "metadata": {
    "colab": {
     "base_uri": "https://localhost:8080/",
     "height": 595
    },
    "id": "J1BJv87aANfN",
    "outputId": "aabbdebd-1f00-419e-cd90-6d7acfe676d3"
   },
   "outputs": [],
   "source": [
    "#visualizing random images\n",
    "nrows = 3\n",
    "rands = np.random.randint(train.shape[0], size=nrows**2)\n",
    "fig = plt.figure(1,figsize=(12,10))\n",
    "\n",
    "for i in range(nrows**2):\n",
    "    img = cv2.imread(train.loc[rands[i], 'filepath'])\n",
    "    ax = plt.subplot(nrows, nrows, i+1)\n",
    "    plt.imshow(cv2.cvtColor(img, cv2.COLOR_BGR2RGB))\n",
    "    plt.title(train.loc[rands[i], 'Label'])"
   ]
  },
  {
   "cell_type": "code",
   "execution_count": null,
   "metadata": {
    "id": "hjKPBImZJVuI"
   },
   "outputs": [],
   "source": [
    "from sklearn.model_selection import train_test_split"
   ]
  },
  {
   "cell_type": "code",
   "execution_count": null,
   "metadata": {
    "id": "CUNjROi1PVAx"
   },
   "outputs": [],
   "source": [
    "train['Label'] = train['Label'].apply(str)\n"
   ]
  },
  {
   "cell_type": "code",
   "execution_count": null,
   "metadata": {
    "colab": {
     "base_uri": "https://localhost:8080/"
    },
    "id": "gQvYbP5FD7yL",
    "outputId": "0ddbf0f4-3498-4cef-fd4f-ea25b9227dad"
   },
   "outputs": [],
   "source": [
    "#lets split our training data into train and validation set\n",
    "df_train , df_val = train_test_split(train, test_size=0.3, random_state=42)\n",
    "print(df_train.Label.value_counts())\n",
    "print(df_val.Label.value_counts())"
   ]
  },
  {
   "cell_type": "code",
   "execution_count": null,
   "metadata": {
    "colab": {
     "base_uri": "https://localhost:8080/"
    },
    "id": "bJC03gp7Jy_I",
    "outputId": "1eed7cbb-123d-43de-e63c-e44b785eff61"
   },
   "outputs": [],
   "source": [
    "#data generators\n",
    "batch_size = 32  \n",
    "image_size = (224, 224)\n",
    "learning_rate = 0.1\n",
    "\n",
    "train_steps = np.ceil(len(df_train) / batch_size)\n",
    "val_steps = np.ceil(len(df_val) / batch_size )\n",
    "\n",
    "classes = train.Label.unique().tolist()\n",
    "\n",
    "\n",
    "# Slight Data Augementation too\n",
    "train_datagen = ImageDataGenerator(preprocessing_function=preprocess_input,horizontal_flip=True,\n",
    "                             vertical_flip=True,shear_range=10,zoom_range=0.2,width_shift_range=0.1,\n",
    "                             height_shift_range=0.1,channel_shift_range=10.)\n",
    "\n",
    "val_datagen = ImageDataGenerator(preprocessing_function=preprocess_input)\n",
    "\n",
    "train_ds = train_datagen.flow_from_dataframe(df_train,x_col='filepath', y_col='Label',\n",
    "                                        target_size=image_size,classes=classes,\n",
    "                                        batch_size=batch_size,\n",
    "                                        class_mode='categorical', shuffle=True, seed=SEED)\n",
    "\n",
    "val_ds = val_datagen.flow_from_dataframe(df_val,x_col='filepath', y_col='Label',\n",
    "                                        target_size=image_size,classes=classes,\n",
    "                                        batch_size=batch_size,\n",
    "                                        class_mode='categorical', shuffle=False, seed=SEED)\n",
    "\n",
    "test_ds = val_datagen.flow_from_dataframe(test, x_col='filepath',target_size=image_size, class_mode=None,\n",
    "                                          shuffle=False,batch_size=batch_size)#set shuffle=False for test dataset not be shuffled"
   ]
  },
  {
   "cell_type": "markdown",
   "metadata": {
    "id": "keAaeXXAwwlQ"
   },
   "source": [
    "### MODELING (Using transfer learning)"
   ]
  },
  {
   "cell_type": "code",
   "execution_count": null,
   "metadata": {
    "id": "xMrAToMOLytd"
   },
   "outputs": [],
   "source": [
    "def BuildModel (pretrained=VGG16):\n",
    "\n",
    "    base_model = pretrained(include_top=False, weights='imagenet', input_shape=(224, 224,3)) #include_top=False to remove the last layer \n",
    "\n",
    "    for layer in base_model.layers:\n",
    "        layer.trainable = False   #freeze trainable layers\n",
    "\n",
    "    x = base_model.output\n",
    "    x = GlobalAveragePooling2D()(x)\n",
    "    x = Dropout(0.1)(x)\n",
    "    x = BatchNormalization()(x)\n",
    "    x = Dense(3072, activation='relu', )(x)\n",
    "    x = Dropout(0.3)(x)\n",
    "    x = BatchNormalization()(x)\n",
    "    output = Dense(2, activation='softmax')(x) \n",
    "    \n",
    "    model = Model(base_model.input, output)\n",
    "    \n",
    "    return model"
   ]
  },
  {
   "cell_type": "code",
   "execution_count": null,
   "metadata": {
    "colab": {
     "base_uri": "https://localhost:8080/"
    },
    "id": "TtcrAO59N6hE",
    "outputId": "55421063-0bf4-4c6d-b3ca-c9c07fd8531b"
   },
   "outputs": [],
   "source": [
    "model = BuildModel()"
   ]
  },
  {
   "cell_type": "code",
   "execution_count": null,
   "metadata": {
    "id": "KJQo348WN-sJ"
   },
   "outputs": [],
   "source": [
    "optimizer = keras.optimizers.Adam(lr=learning_rate)\n",
    "model.compile(loss='binary_crossentropy', optimizer=optimizer, metrics=['AUC'])"
   ]
  },
  {
   "cell_type": "code",
   "execution_count": null,
   "metadata": {
    "id": "1LeNqcGYOF4B"
   },
   "outputs": [],
   "source": [
    "earlystop = EarlyStopping(monitor='val_loss', patience=5, verbose=1, restore_best_weights=True)\n",
    "chkpt_path = os.path.join(\"/content/drive/MyDrive/MIIA Pothole Image Classification/models/\", f\"tb_model.h5\", )\n",
    "checkpoint = ModelCheckpoint(chkpt_path, monitor='val_loss',mode='auto', verbose=1, save_best_only=True,)"
   ]
  },
  {
   "cell_type": "code",
   "execution_count": null,
   "metadata": {
    "colab": {
     "base_uri": "https://localhost:8080/"
    },
    "id": "zhLZPM-YOW4_",
    "outputId": "766e4f60-7701-45ed-dc33-caa65770ea7e"
   },
   "outputs": [],
   "source": [
    "history = model.fit(train_ds, epochs=5,steps_per_epoch=train_steps, callbacks=[earlystop, checkpoint],\n",
    "                    verbose=1, shuffle=False,validation_data=(val_ds), validation_steps= val_steps)"
   ]
  },
  {
   "cell_type": "code",
   "execution_count": null,
   "metadata": {
    "colab": {
     "base_uri": "https://localhost:8080/"
    },
    "id": "nJL91YkCQ1-Q",
    "outputId": "9f9e3749-a158-4f32-b26e-3a8bebe826c2"
   },
   "outputs": [],
   "source": [
    "#AUC\n",
    "y_pred = model.predict(val_ds, verbose=1)[:, 1] \n",
    "fpr, tpr, thresholds = roc_curve(val_ds.classes, y_pred)\n",
    "auc = auc(fpr, tpr)\n",
    "auc"
   ]
  },
  {
   "cell_type": "markdown",
   "metadata": {
    "id": "tAVYF6nbRGA8"
   },
   "source": [
    "### SUBMISSION"
   ]
  },
  {
   "cell_type": "code",
   "execution_count": null,
   "metadata": {
    "id": "RzJg9ckPQ3gL"
   },
   "outputs": [],
   "source": [
    "#make predictions on test data\n",
    "predictions = model.predict(test_ds)[:, 1]"
   ]
  },
  {
   "cell_type": "code",
   "execution_count": null,
   "metadata": {
    "id": "K2GLKnoQRDP2"
   },
   "outputs": [],
   "source": [
    "\n",
    "submission = pd.DataFrame()\n",
    "submission['Image_ID'] = test_names\n",
    "submission['Label'] = predictions"
   ]
  },
  {
   "cell_type": "code",
   "execution_count": null,
   "metadata": {
    "colab": {
     "base_uri": "https://localhost:8080/",
     "height": 204
    },
    "id": "pDV6JY-9RhY6",
    "outputId": "e096d9f2-e589-4ee1-c430-90968e4deb1f"
   },
   "outputs": [],
   "source": [
    "submission.head()"
   ]
  },
  {
   "cell_type": "code",
   "execution_count": null,
   "metadata": {
    "id": "ae1QNFdjRqVJ"
   },
   "outputs": [],
   "source": [
    "submission.to_csv('submission.csv', index=False)"
   ]
  },
  {
   "cell_type": "markdown",
   "metadata": {
    "id": "eeUrYaU3xLuV"
   },
   "source": [
    "## Some useful Insights\n",
    "\n",
    "- Try out other pretrained models (ResNet, EfficientNet etc )\n",
    "- Here i trained for just 5 epochs, try training for more epochs and monitor the loss ( You could use a lower learning rate too)\n",
    "- Here, I used few ramdom data augmentation parameters (the one i used for a former task), try reason the type of data augmumentation that will be suitable for this particular task.\n",
    "\n",
    "#### Image Prepocessing idea\n",
    "- You should notice that most of the images are taken from the dashboard of the car, the dashboard seem to very visible in the images, Since potholes will always be on the road and not the dashboard,  Is there a way to crop out that unnecessary part of the image. So the model can focus on the roads alone"
   ]
  },
  {
   "cell_type": "code",
   "execution_count": null,
   "metadata": {
    "id": "um1FUpPg4SYE"
   },
   "outputs": [],
   "source": []
  }
 ],
 "metadata": {
  "accelerator": "GPU",
  "colab": {
   "collapsed_sections": [],
   "name": "MIIA Pothole Image Classification Challenge.ipynb",
   "provenance": []
  },
  "kernelspec": {
   "display_name": "Python 3",
   "language": "python",
   "name": "python3"
  },
  "language_info": {
   "codemirror_mode": {
    "name": "ipython",
    "version": 3
   },
   "file_extension": ".py",
   "mimetype": "text/x-python",
   "name": "python",
   "nbconvert_exporter": "python",
   "pygments_lexer": "ipython3",
   "version": "3.8.5"
  }
 },
 "nbformat": 4,
 "nbformat_minor": 1
}
