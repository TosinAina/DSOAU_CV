{
  "nbformat": 4,
  "nbformat_minor": 0,
  "metadata": {
    "colab": {
      "name": "MIIAportholes.ipynb",
      "provenance": []
    },
    "kernelspec": {
      "name": "python3",
      "display_name": "Python 3"
    },
    "accelerator": "GPU"
  },
  "cells": [
    {
      "cell_type": "code",
      "metadata": {
        "id": "iCPVRxs5z6iG"
      },
      "source": [
        "import warnings \n",
        "warnings.filterwarnings('ignore')\n",
        "import matplotlib.pyplot as plt\n",
        "import numpy as np\n",
        "import pandas as pd\n",
        "from tensorflow.keras.models import Sequential\n",
        "from tensorflow.keras.layers import Dense, Flatten, MaxPool2D, BatchNormalization,Dropout\n",
        "from tensorflow.keras.applications import VGG16\n",
        "from tensorflow.keras.optimizers import SGD\n",
        "from tensorflow.keras.preprocessing.image import ImageDataGenerator\n",
        "from tensorflow.keras.callbacks import EarlyStopping,ModelCheckpoint"
      ],
      "execution_count": 1,
      "outputs": []
    },
    {
      "cell_type": "code",
      "metadata": {
        "id": "8qcMnsiHmtKv"
      },
      "source": [
        "sample_sub = pd.read_csv('/content/drive/MyDrive/MIIA Porthole/sample_submission.csv')\n",
        "train_df = pd.read_csv('/content/drive/MyDrive/MIIA Porthole/train_ids_labels.csv')\n",
        "test_df = pd.read_csv('/content/drive/MyDrive/MIIA Porthole/test_ids_only.csv')\n",
        "data_folder = '/content/drive/MyDrive/MIIA Porthole/all_data/'"
      ],
      "execution_count": 2,
      "outputs": []
    },
    {
      "cell_type": "code",
      "metadata": {
        "id": "Q4dFhfsTnS3n"
      },
      "source": [
        "train_df['Image_ID'] = train_df['Image_ID'].apply(lambda x: x+'.JPG')\n",
        "test_df['Image_ID'] = test_df['Image_ID'].apply(lambda x: x+'.JPG')"
      ],
      "execution_count": 3,
      "outputs": []
    },
    {
      "cell_type": "code",
      "metadata": {
        "id": "pILfgQhQvfp-"
      },
      "source": [
        "train_df['Label'] = train_df['Label'].astype('str')"
      ],
      "execution_count": 4,
      "outputs": []
    },
    {
      "cell_type": "code",
      "metadata": {
        "colab": {
          "base_uri": "https://localhost:8080/",
          "height": 204
        },
        "id": "aVqLrkEzpL1R",
        "outputId": "6aaf47c8-2e5b-4eed-c664-827d548726d1"
      },
      "source": [
        "train_df.head()"
      ],
      "execution_count": 5,
      "outputs": [
        {
          "output_type": "execute_result",
          "data": {
            "text/html": [
              "<div>\n",
              "<style scoped>\n",
              "    .dataframe tbody tr th:only-of-type {\n",
              "        vertical-align: middle;\n",
              "    }\n",
              "\n",
              "    .dataframe tbody tr th {\n",
              "        vertical-align: top;\n",
              "    }\n",
              "\n",
              "    .dataframe thead th {\n",
              "        text-align: right;\n",
              "    }\n",
              "</style>\n",
              "<table border=\"1\" class=\"dataframe\">\n",
              "  <thead>\n",
              "    <tr style=\"text-align: right;\">\n",
              "      <th></th>\n",
              "      <th>Image_ID</th>\n",
              "      <th>Label</th>\n",
              "    </tr>\n",
              "  </thead>\n",
              "  <tbody>\n",
              "    <tr>\n",
              "      <th>0</th>\n",
              "      <td>cVOfkSdqnWXUerr.JPG</td>\n",
              "      <td>0</td>\n",
              "    </tr>\n",
              "    <tr>\n",
              "      <th>1</th>\n",
              "      <td>EhnvIDPXFFjUhkR.JPG</td>\n",
              "      <td>0</td>\n",
              "    </tr>\n",
              "    <tr>\n",
              "      <th>2</th>\n",
              "      <td>tYKqoStvHsryFhS.JPG</td>\n",
              "      <td>1</td>\n",
              "    </tr>\n",
              "    <tr>\n",
              "      <th>3</th>\n",
              "      <td>eSpjlsZIwOMLmUS.JPG</td>\n",
              "      <td>1</td>\n",
              "    </tr>\n",
              "    <tr>\n",
              "      <th>4</th>\n",
              "      <td>uzxhIXjNENLyHwZ.JPG</td>\n",
              "      <td>1</td>\n",
              "    </tr>\n",
              "  </tbody>\n",
              "</table>\n",
              "</div>"
            ],
            "text/plain": [
              "              Image_ID Label\n",
              "0  cVOfkSdqnWXUerr.JPG     0\n",
              "1  EhnvIDPXFFjUhkR.JPG     0\n",
              "2  tYKqoStvHsryFhS.JPG     1\n",
              "3  eSpjlsZIwOMLmUS.JPG     1\n",
              "4  uzxhIXjNENLyHwZ.JPG     1"
            ]
          },
          "metadata": {
            "tags": []
          },
          "execution_count": 5
        }
      ]
    },
    {
      "cell_type": "code",
      "metadata": {
        "colab": {
          "base_uri": "https://localhost:8080/"
        },
        "id": "C1TI1oTjuLcx",
        "outputId": "b4dfacdb-7955-4858-9d05-b316657df2de"
      },
      "source": [
        "train_df['Label'].nunique()"
      ],
      "execution_count": 6,
      "outputs": [
        {
          "output_type": "execute_result",
          "data": {
            "text/plain": [
              "2"
            ]
          },
          "metadata": {
            "tags": []
          },
          "execution_count": 6
        }
      ]
    },
    {
      "cell_type": "code",
      "metadata": {
        "colab": {
          "base_uri": "https://localhost:8080/"
        },
        "id": "jwjxvPGxu3Qd",
        "outputId": "65c6c621-7cc2-49b3-9fae-109876a45dbb"
      },
      "source": [
        "train_df.columns"
      ],
      "execution_count": 7,
      "outputs": [
        {
          "output_type": "execute_result",
          "data": {
            "text/plain": [
              "Index(['Image_ID', 'Label'], dtype='object')"
            ]
          },
          "metadata": {
            "tags": []
          },
          "execution_count": 7
        }
      ]
    },
    {
      "cell_type": "code",
      "metadata": {
        "colab": {
          "base_uri": "https://localhost:8080/",
          "height": 204
        },
        "id": "WVVE9WUGp9HV",
        "outputId": "8dd44b96-9a22-4559-f166-83eb3c75dd36"
      },
      "source": [
        "test_df.head()"
      ],
      "execution_count": 8,
      "outputs": [
        {
          "output_type": "execute_result",
          "data": {
            "text/html": [
              "<div>\n",
              "<style scoped>\n",
              "    .dataframe tbody tr th:only-of-type {\n",
              "        vertical-align: middle;\n",
              "    }\n",
              "\n",
              "    .dataframe tbody tr th {\n",
              "        vertical-align: top;\n",
              "    }\n",
              "\n",
              "    .dataframe thead th {\n",
              "        text-align: right;\n",
              "    }\n",
              "</style>\n",
              "<table border=\"1\" class=\"dataframe\">\n",
              "  <thead>\n",
              "    <tr style=\"text-align: right;\">\n",
              "      <th></th>\n",
              "      <th>Image_ID</th>\n",
              "    </tr>\n",
              "  </thead>\n",
              "  <tbody>\n",
              "    <tr>\n",
              "      <th>0</th>\n",
              "      <td>nRhHxqLhDlJsiXc.JPG</td>\n",
              "    </tr>\n",
              "    <tr>\n",
              "      <th>1</th>\n",
              "      <td>gbSntVovxgHQrmO.JPG</td>\n",
              "    </tr>\n",
              "    <tr>\n",
              "      <th>2</th>\n",
              "      <td>nqOobGmvgEOiPms.JPG</td>\n",
              "    </tr>\n",
              "    <tr>\n",
              "      <th>3</th>\n",
              "      <td>oIkPTooLcIbZKlF.JPG</td>\n",
              "    </tr>\n",
              "    <tr>\n",
              "      <th>4</th>\n",
              "      <td>eSKxsTTJDQzkjgD.JPG</td>\n",
              "    </tr>\n",
              "  </tbody>\n",
              "</table>\n",
              "</div>"
            ],
            "text/plain": [
              "              Image_ID\n",
              "0  nRhHxqLhDlJsiXc.JPG\n",
              "1  gbSntVovxgHQrmO.JPG\n",
              "2  nqOobGmvgEOiPms.JPG\n",
              "3  oIkPTooLcIbZKlF.JPG\n",
              "4  eSKxsTTJDQzkjgD.JPG"
            ]
          },
          "metadata": {
            "tags": []
          },
          "execution_count": 8
        }
      ]
    },
    {
      "cell_type": "code",
      "metadata": {
        "id": "yiJOerM8qBL_"
      },
      "source": [
        "datagen = ImageDataGenerator(rescale=1./255.,validation_split=0.15,horizontal_flip=True,zoom_range=0.1,vertical_flip=True,rotation_range=90,brightness_range=(0.8,1.2))\n",
        "test_datagen = ImageDataGenerator(rescale=1./255.)"
      ],
      "execution_count": 9,
      "outputs": []
    },
    {
      "cell_type": "code",
      "metadata": {
        "colab": {
          "base_uri": "https://localhost:8080/"
        },
        "id": "A57VKrQ1qjRZ",
        "outputId": "a868490c-4baa-4810-fc69-dc4d433583fa"
      },
      "source": [
        "train_generator = datagen.flow_from_dataframe(\n",
        "    subset='training',\n",
        "    dataframe=train_df,\n",
        "    directory=data_folder,\n",
        "    x_col='Image_ID',\n",
        "    y_col='Label',\n",
        "    batch_size=64,\n",
        "    class_mode='binary',\n",
        "    seed=42,\n",
        "    target_size=(128,128)   \n",
        ")\n",
        "validation_generator = datagen.flow_from_dataframe(\n",
        "    subset='validation',\n",
        "    dataframe=train_df,\n",
        "    directory=data_folder,\n",
        "    x_col=\"Image_ID\",\n",
        "    y_col=\"Label\",\n",
        "    batch_size=64,\n",
        "    class_mode='binary',\n",
        "    seed=42,\n",
        "    target_size=(128,128)  \n",
        ")\n",
        "test_generator = test_datagen.flow_from_dataframe(\n",
        "    dataframe=test_df,\n",
        "    directory=data_folder,\n",
        "    x_col='Image_ID',\n",
        "    seed=42,\n",
        "    batch_size=1,\n",
        "    shuffle=False,\n",
        "    class_mode=None,\n",
        "    target_size=(128,128)  \n",
        ")"
      ],
      "execution_count": 10,
      "outputs": [
        {
          "output_type": "stream",
          "text": [
            "Found 3423 validated image filenames belonging to 2 classes.\n",
            "Found 603 validated image filenames belonging to 2 classes.\n",
            "Found 1650 validated image filenames.\n"
          ],
          "name": "stdout"
        }
      ]
    },
    {
      "cell_type": "code",
      "metadata": {
        "id": "MrSdr52zqvyr"
      },
      "source": [
        "vgg_model = VGG16(input_shape=(128,128,3),\n",
        "               weights='imagenet',\n",
        "               include_top=False)\n",
        "\n",
        "\n",
        "model = Sequential([\n",
        "    BatchNormalization(input_shape=(128,128,3)),\n",
        "    vgg_model,\n",
        "    Flatten(),\n",
        "    Dropout(0.5),\n",
        "    Dense(1, activation='sigmoid')\n",
        "])\n",
        "model.compile(loss='binary_crossentropy',optimizer=SGD(learning_rate=0.01),metrics=['accuracy'])"
      ],
      "execution_count": 11,
      "outputs": []
    },
    {
      "cell_type": "code",
      "metadata": {
        "colab": {
          "base_uri": "https://localhost:8080/"
        },
        "id": "XRbOAuFGw94s",
        "outputId": "814cbf86-f8d1-4a0b-c468-645f3839c0f5"
      },
      "source": [
        "model.summary()"
      ],
      "execution_count": 12,
      "outputs": [
        {
          "output_type": "stream",
          "text": [
            "Model: \"sequential\"\n",
            "_________________________________________________________________\n",
            "Layer (type)                 Output Shape              Param #   \n",
            "=================================================================\n",
            "batch_normalization (BatchNo (None, 128, 128, 3)       12        \n",
            "_________________________________________________________________\n",
            "vgg16 (Functional)           (None, 4, 4, 512)         14714688  \n",
            "_________________________________________________________________\n",
            "flatten (Flatten)            (None, 8192)              0         \n",
            "_________________________________________________________________\n",
            "dropout (Dropout)            (None, 8192)              0         \n",
            "_________________________________________________________________\n",
            "dense (Dense)                (None, 1)                 8193      \n",
            "=================================================================\n",
            "Total params: 14,722,893\n",
            "Trainable params: 14,722,887\n",
            "Non-trainable params: 6\n",
            "_________________________________________________________________\n"
          ],
          "name": "stdout"
        }
      ]
    },
    {
      "cell_type": "code",
      "metadata": {
        "id": "lHV6BlT3xDZp"
      },
      "source": [
        "early_stop = EarlyStopping(patience=4,monitor='val_loss')\n",
        "modelcheckpoints = ModelCheckpoint(filepath='/content/drive/MyDrive/MIIA Porthole/trainmodel.hdf5',save_best_only=True,save_weights_only=True)"
      ],
      "execution_count": 13,
      "outputs": []
    },
    {
      "cell_type": "code",
      "metadata": {
        "id": "ON-qsh0KyOFQ"
      },
      "source": [
        "STEP_SIZE_TRAIN=train_generator.n//train_generator.batch_size\n",
        "STEP_SIZE_VALID=validation_generator.n//validation_generator.batch_size\n",
        "STEP_SIZE_TEST=test_generator.n//test_generator.batch_size"
      ],
      "execution_count": 14,
      "outputs": []
    },
    {
      "cell_type": "code",
      "metadata": {
        "colab": {
          "base_uri": "https://localhost:8080/"
        },
        "id": "KTryuCZuyXkR",
        "outputId": "d248c0df-b2f8-4f61-e435-574eefde9484"
      },
      "source": [
        "model.fit(train_generator,\n",
        "          steps_per_epoch=STEP_SIZE_TRAIN,\n",
        "          validation_data=validation_generator,\n",
        "          validation_steps=STEP_SIZE_VALID,\n",
        "          epochs=20,\n",
        "          callbacks=[early_stop,modelcheckpoints]\n",
        ")"
      ],
      "execution_count": 15,
      "outputs": [
        {
          "output_type": "stream",
          "text": [
            "Epoch 1/20\n",
            "53/53 [==============================] - 54s 919ms/step - loss: 0.9531 - accuracy: 0.5179 - val_loss: 0.6842 - val_accuracy: 0.5694\n",
            "Epoch 2/20\n",
            "53/53 [==============================] - 47s 882ms/step - loss: 0.6818 - accuracy: 0.5768 - val_loss: 0.6817 - val_accuracy: 0.5764\n",
            "Epoch 3/20\n",
            "53/53 [==============================] - 47s 884ms/step - loss: 0.6833 - accuracy: 0.5846 - val_loss: 0.6803 - val_accuracy: 0.5747\n",
            "Epoch 4/20\n",
            "53/53 [==============================] - 47s 881ms/step - loss: 0.6795 - accuracy: 0.5978 - val_loss: 0.6817 - val_accuracy: 0.5747\n",
            "Epoch 5/20\n",
            "53/53 [==============================] - 47s 884ms/step - loss: 0.6837 - accuracy: 0.5938 - val_loss: 0.6770 - val_accuracy: 0.5729\n",
            "Epoch 6/20\n",
            "53/53 [==============================] - 47s 885ms/step - loss: 0.6748 - accuracy: 0.5886 - val_loss: 0.6667 - val_accuracy: 0.6007\n",
            "Epoch 7/20\n",
            "53/53 [==============================] - 47s 886ms/step - loss: 0.6706 - accuracy: 0.6009 - val_loss: 0.6667 - val_accuracy: 0.5764\n",
            "Epoch 8/20\n",
            "53/53 [==============================] - 47s 878ms/step - loss: 0.6526 - accuracy: 0.6266 - val_loss: 0.6565 - val_accuracy: 0.6458\n",
            "Epoch 9/20\n",
            "53/53 [==============================] - 47s 883ms/step - loss: 0.6413 - accuracy: 0.6322 - val_loss: 0.6074 - val_accuracy: 0.6528\n",
            "Epoch 10/20\n",
            "53/53 [==============================] - 47s 881ms/step - loss: 0.6335 - accuracy: 0.6631 - val_loss: 0.5524 - val_accuracy: 0.7309\n",
            "Epoch 11/20\n",
            "53/53 [==============================] - 47s 887ms/step - loss: 0.5915 - accuracy: 0.6964 - val_loss: 0.5448 - val_accuracy: 0.7049\n",
            "Epoch 12/20\n",
            "53/53 [==============================] - 48s 895ms/step - loss: 0.5138 - accuracy: 0.7458 - val_loss: 0.4113 - val_accuracy: 0.8160\n",
            "Epoch 13/20\n",
            "53/53 [==============================] - 47s 888ms/step - loss: 0.4458 - accuracy: 0.8026 - val_loss: 0.5642 - val_accuracy: 0.6892\n",
            "Epoch 14/20\n",
            "53/53 [==============================] - 47s 880ms/step - loss: 0.4272 - accuracy: 0.8132 - val_loss: 0.3318 - val_accuracy: 0.8576\n",
            "Epoch 15/20\n",
            "53/53 [==============================] - 47s 888ms/step - loss: 0.3881 - accuracy: 0.8359 - val_loss: 0.3420 - val_accuracy: 0.8576\n",
            "Epoch 16/20\n",
            "53/53 [==============================] - 47s 880ms/step - loss: 0.3087 - accuracy: 0.8754 - val_loss: 0.3041 - val_accuracy: 0.8681\n",
            "Epoch 17/20\n",
            "53/53 [==============================] - 47s 879ms/step - loss: 0.2821 - accuracy: 0.8904 - val_loss: 0.3166 - val_accuracy: 0.8750\n",
            "Epoch 18/20\n",
            "53/53 [==============================] - 47s 885ms/step - loss: 0.3017 - accuracy: 0.8712 - val_loss: 0.3681 - val_accuracy: 0.8663\n",
            "Epoch 19/20\n",
            "53/53 [==============================] - 47s 881ms/step - loss: 0.2757 - accuracy: 0.8879 - val_loss: 0.2989 - val_accuracy: 0.8819\n",
            "Epoch 20/20\n",
            "53/53 [==============================] - 47s 888ms/step - loss: 0.2549 - accuracy: 0.8965 - val_loss: 0.2793 - val_accuracy: 0.8889\n"
          ],
          "name": "stdout"
        },
        {
          "output_type": "execute_result",
          "data": {
            "text/plain": [
              "<tensorflow.python.keras.callbacks.History at 0x7f2d804404a8>"
            ]
          },
          "metadata": {
            "tags": []
          },
          "execution_count": 15
        }
      ]
    },
    {
      "cell_type": "code",
      "metadata": {
        "id": "AeDbjjoYNtt9"
      },
      "source": [
        "model.load_weights('/content/drive/MyDrive/MIIA Porthole/trainmodel.hdf5')"
      ],
      "execution_count": 16,
      "outputs": []
    },
    {
      "cell_type": "code",
      "metadata": {
        "id": "CRZtgoPvyd-t"
      },
      "source": [
        "test_generator.reset()\n",
        "result = model.predict_generator(test_generator,\n",
        "                                steps=STEP_SIZE_TEST)"
      ],
      "execution_count": 17,
      "outputs": []
    },
    {
      "cell_type": "code",
      "metadata": {
        "id": "vP3RMHeSv01W"
      },
      "source": [
        "sample_sub['Label'] = result\n",
        "sample_sub.drop('Unnamed: 1',1,inplace=True)\n",
        "sample_sub.to_csv('/content/drive/MyDrive/MIIA Porthole/sub5.csv',index=False)"
      ],
      "execution_count": 18,
      "outputs": []
    },
    {
      "cell_type": "code",
      "metadata": {
        "id": "AtrhFXSm2L0J"
      },
      "source": [
        ""
      ],
      "execution_count": 18,
      "outputs": []
    }
  ]
}