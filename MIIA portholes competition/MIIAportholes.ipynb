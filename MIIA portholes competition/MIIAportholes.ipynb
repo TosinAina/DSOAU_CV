{
  "nbformat": 4,
  "nbformat_minor": 0,
  "metadata": {
    "colab": {
      "name": "MIIAportholes.ipynb",
      "provenance": []
    },
    "kernelspec": {
      "name": "python3",
      "display_name": "Python 3"
    },
    "accelerator": "GPU"
  },
  "cells": [
    {
      "cell_type": "code",
      "metadata": {
        "id": "iCPVRxs5z6iG"
      },
      "source": [
        "import warnings \n",
        "warnings.filterwarnings('ignore')\n",
        "import matplotlib.pyplot as plt\n",
        "import numpy as np\n",
        "import pandas as pd\n",
        "from tensorflow.keras.models import Sequential\n",
        "from tensorflow.keras.layers import Dense, Flatten, MaxPool2D, BatchNormalization,Dropout\n",
        "from tensorflow.keras.applications import VGG16\n",
        "from tensorflow.keras.optimizers import SGD\n",
        "from tensorflow.keras.preprocessing.image import ImageDataGenerator\n",
        "from tensorflow.keras.callbacks import EarlyStopping,ModelCheckpoint"
      ],
      "execution_count": 1,
      "outputs": []
    },
    {
      "cell_type": "code",
      "metadata": {
        "id": "8qcMnsiHmtKv"
      },
      "source": [
        "sample_sub = pd.read_csv('/content/drive/MyDrive/MIIA Porthole/sample_submission.csv')\n",
        "train_df = pd.read_csv('/content/drive/MyDrive/MIIA Porthole/train_ids_labels.csv')\n",
        "test_df = pd.read_csv('/content/drive/MyDrive/MIIA Porthole/test_ids_only.csv')\n",
        "data_folder = '/content/drive/MyDrive/MIIA Porthole/all_data/'"
      ],
      "execution_count": 2,
      "outputs": []
    },
    {
      "cell_type": "code",
      "metadata": {
        "id": "Q4dFhfsTnS3n"
      },
      "source": [
        "train_df['Image_ID'] = train_df['Image_ID'].apply(lambda x: x+'.JPG')\n",
        "test_df['Image_ID'] = test_df['Image_ID'].apply(lambda x: x+'.JPG')"
      ],
      "execution_count": 3,
      "outputs": []
    },
    {
      "cell_type": "code",
      "metadata": {
        "id": "pILfgQhQvfp-"
      },
      "source": [
        "train_df['Label'] = train_df['Label'].astype('str')"
      ],
      "execution_count": 4,
      "outputs": []
    },
    {
      "cell_type": "code",
      "metadata": {
        "colab": {
          "base_uri": "https://localhost:8080/",
          "height": 204
        },
        "id": "aVqLrkEzpL1R",
        "outputId": "ca06d1fa-6bcb-4fcf-9735-2446b701e242"
      },
      "source": [
        "train_df.head()"
      ],
      "execution_count": 5,
      "outputs": [
        {
          "output_type": "execute_result",
          "data": {
            "text/html": [
              "<div>\n",
              "<style scoped>\n",
              "    .dataframe tbody tr th:only-of-type {\n",
              "        vertical-align: middle;\n",
              "    }\n",
              "\n",
              "    .dataframe tbody tr th {\n",
              "        vertical-align: top;\n",
              "    }\n",
              "\n",
              "    .dataframe thead th {\n",
              "        text-align: right;\n",
              "    }\n",
              "</style>\n",
              "<table border=\"1\" class=\"dataframe\">\n",
              "  <thead>\n",
              "    <tr style=\"text-align: right;\">\n",
              "      <th></th>\n",
              "      <th>Image_ID</th>\n",
              "      <th>Label</th>\n",
              "    </tr>\n",
              "  </thead>\n",
              "  <tbody>\n",
              "    <tr>\n",
              "      <th>0</th>\n",
              "      <td>cVOfkSdqnWXUerr.JPG</td>\n",
              "      <td>0</td>\n",
              "    </tr>\n",
              "    <tr>\n",
              "      <th>1</th>\n",
              "      <td>EhnvIDPXFFjUhkR.JPG</td>\n",
              "      <td>0</td>\n",
              "    </tr>\n",
              "    <tr>\n",
              "      <th>2</th>\n",
              "      <td>tYKqoStvHsryFhS.JPG</td>\n",
              "      <td>1</td>\n",
              "    </tr>\n",
              "    <tr>\n",
              "      <th>3</th>\n",
              "      <td>eSpjlsZIwOMLmUS.JPG</td>\n",
              "      <td>1</td>\n",
              "    </tr>\n",
              "    <tr>\n",
              "      <th>4</th>\n",
              "      <td>uzxhIXjNENLyHwZ.JPG</td>\n",
              "      <td>1</td>\n",
              "    </tr>\n",
              "  </tbody>\n",
              "</table>\n",
              "</div>"
            ],
            "text/plain": [
              "              Image_ID Label\n",
              "0  cVOfkSdqnWXUerr.JPG     0\n",
              "1  EhnvIDPXFFjUhkR.JPG     0\n",
              "2  tYKqoStvHsryFhS.JPG     1\n",
              "3  eSpjlsZIwOMLmUS.JPG     1\n",
              "4  uzxhIXjNENLyHwZ.JPG     1"
            ]
          },
          "metadata": {
            "tags": []
          },
          "execution_count": 5
        }
      ]
    },
    {
      "cell_type": "code",
      "metadata": {
        "colab": {
          "base_uri": "https://localhost:8080/"
        },
        "id": "C1TI1oTjuLcx",
        "outputId": "30eb48a4-a791-481c-9d9e-d22abf132388"
      },
      "source": [
        "train_df['Label'].nunique()"
      ],
      "execution_count": 6,
      "outputs": [
        {
          "output_type": "execute_result",
          "data": {
            "text/plain": [
              "2"
            ]
          },
          "metadata": {
            "tags": []
          },
          "execution_count": 6
        }
      ]
    },
    {
      "cell_type": "code",
      "metadata": {
        "colab": {
          "base_uri": "https://localhost:8080/"
        },
        "id": "jwjxvPGxu3Qd",
        "outputId": "ca130e10-8a70-43d0-c50b-cd0b2c2e85a4"
      },
      "source": [
        "train_df.columns"
      ],
      "execution_count": 7,
      "outputs": [
        {
          "output_type": "execute_result",
          "data": {
            "text/plain": [
              "Index(['Image_ID', 'Label'], dtype='object')"
            ]
          },
          "metadata": {
            "tags": []
          },
          "execution_count": 7
        }
      ]
    },
    {
      "cell_type": "code",
      "metadata": {
        "colab": {
          "base_uri": "https://localhost:8080/",
          "height": 204
        },
        "id": "WVVE9WUGp9HV",
        "outputId": "2122a4bc-495c-41dc-e68f-73046abe089b"
      },
      "source": [
        "test_df.head()"
      ],
      "execution_count": 8,
      "outputs": [
        {
          "output_type": "execute_result",
          "data": {
            "text/html": [
              "<div>\n",
              "<style scoped>\n",
              "    .dataframe tbody tr th:only-of-type {\n",
              "        vertical-align: middle;\n",
              "    }\n",
              "\n",
              "    .dataframe tbody tr th {\n",
              "        vertical-align: top;\n",
              "    }\n",
              "\n",
              "    .dataframe thead th {\n",
              "        text-align: right;\n",
              "    }\n",
              "</style>\n",
              "<table border=\"1\" class=\"dataframe\">\n",
              "  <thead>\n",
              "    <tr style=\"text-align: right;\">\n",
              "      <th></th>\n",
              "      <th>Image_ID</th>\n",
              "    </tr>\n",
              "  </thead>\n",
              "  <tbody>\n",
              "    <tr>\n",
              "      <th>0</th>\n",
              "      <td>nRhHxqLhDlJsiXc.JPG</td>\n",
              "    </tr>\n",
              "    <tr>\n",
              "      <th>1</th>\n",
              "      <td>gbSntVovxgHQrmO.JPG</td>\n",
              "    </tr>\n",
              "    <tr>\n",
              "      <th>2</th>\n",
              "      <td>nqOobGmvgEOiPms.JPG</td>\n",
              "    </tr>\n",
              "    <tr>\n",
              "      <th>3</th>\n",
              "      <td>oIkPTooLcIbZKlF.JPG</td>\n",
              "    </tr>\n",
              "    <tr>\n",
              "      <th>4</th>\n",
              "      <td>eSKxsTTJDQzkjgD.JPG</td>\n",
              "    </tr>\n",
              "  </tbody>\n",
              "</table>\n",
              "</div>"
            ],
            "text/plain": [
              "              Image_ID\n",
              "0  nRhHxqLhDlJsiXc.JPG\n",
              "1  gbSntVovxgHQrmO.JPG\n",
              "2  nqOobGmvgEOiPms.JPG\n",
              "3  oIkPTooLcIbZKlF.JPG\n",
              "4  eSKxsTTJDQzkjgD.JPG"
            ]
          },
          "metadata": {
            "tags": []
          },
          "execution_count": 8
        }
      ]
    },
    {
      "cell_type": "code",
      "metadata": {
        "id": "yiJOerM8qBL_"
      },
      "source": [
        "datagen = ImageDataGenerator(rescale=1./255.,validation_split=0.15,horizontal_flip=True,vertical_flip=True,rotation_range=90,brightness_range=(0.8,1.2))\n",
        "test_datagen = ImageDataGenerator(rescale=1./255.)"
      ],
      "execution_count": 9,
      "outputs": []
    },
    {
      "cell_type": "code",
      "metadata": {
        "colab": {
          "base_uri": "https://localhost:8080/"
        },
        "id": "A57VKrQ1qjRZ",
        "outputId": "41583536-bcfd-4dd1-9139-171faa71fb46"
      },
      "source": [
        "train_generator = datagen.flow_from_dataframe(\n",
        "    subset='training',\n",
        "    dataframe=train_df,\n",
        "    directory=data_folder,\n",
        "    x_col='Image_ID',\n",
        "    y_col='Label',\n",
        "    batch_size=64,\n",
        "    class_mode='binary',\n",
        "    seed=42,\n",
        "    target_size=(128,128)   \n",
        ")\n",
        "validation_generator = datagen.flow_from_dataframe(\n",
        "    subset='validation',\n",
        "    dataframe=train_df,\n",
        "    directory=data_folder,\n",
        "    x_col=\"Image_ID\",\n",
        "    y_col=\"Label\",\n",
        "    batch_size=64,\n",
        "    class_mode='binary',\n",
        "    seed=42,\n",
        "    target_size=(128,128)  \n",
        ")\n",
        "test_generator = test_datagen.flow_from_dataframe(\n",
        "    dataframe=test_df,\n",
        "    directory=data_folder,\n",
        "    x_col='Image_ID',\n",
        "    seed=42,\n",
        "    batch_size=1,\n",
        "    shuffle=False,\n",
        "    class_mode=None,\n",
        "    target_size=(128,128)  \n",
        ")"
      ],
      "execution_count": 10,
      "outputs": [
        {
          "output_type": "stream",
          "text": [
            "Found 3423 validated image filenames belonging to 2 classes.\n",
            "Found 603 validated image filenames belonging to 2 classes.\n",
            "Found 1650 validated image filenames.\n"
          ],
          "name": "stdout"
        }
      ]
    },
    {
      "cell_type": "code",
      "metadata": {
        "id": "MrSdr52zqvyr",
        "colab": {
          "base_uri": "https://localhost:8080/"
        },
        "outputId": "217ff9ca-fa71-4733-8560-0472fdc8ec50"
      },
      "source": [
        "vgg_model = VGG16(input_shape=(128,128,3),\n",
        "               weights='imagenet',\n",
        "               include_top=False)\n",
        "\n",
        "\n",
        "model = Sequential([\n",
        "    BatchNormalization(input_shape=(128,128,3)),\n",
        "    vgg_model,\n",
        "    Flatten(),\n",
        "    Dropout(0.5),\n",
        "    Dense(1, activation='sigmoid')\n",
        "])\n",
        "model.compile(loss='binary_crossentropy',optimizer=SGD(learning_rate=0.01),metrics=['accuracy'])"
      ],
      "execution_count": 11,
      "outputs": [
        {
          "output_type": "stream",
          "text": [
            "Downloading data from https://storage.googleapis.com/tensorflow/keras-applications/vgg16/vgg16_weights_tf_dim_ordering_tf_kernels_notop.h5\n",
            "58892288/58889256 [==============================] - 0s 0us/step\n"
          ],
          "name": "stdout"
        }
      ]
    },
    {
      "cell_type": "code",
      "metadata": {
        "colab": {
          "base_uri": "https://localhost:8080/"
        },
        "id": "XRbOAuFGw94s",
        "outputId": "dc80a8b1-622a-4fcb-9bb3-3795c33c94a6"
      },
      "source": [
        "model.summary()"
      ],
      "execution_count": 12,
      "outputs": [
        {
          "output_type": "stream",
          "text": [
            "Model: \"sequential\"\n",
            "_________________________________________________________________\n",
            "Layer (type)                 Output Shape              Param #   \n",
            "=================================================================\n",
            "batch_normalization (BatchNo (None, 128, 128, 3)       12        \n",
            "_________________________________________________________________\n",
            "vgg16 (Functional)           (None, 4, 4, 512)         14714688  \n",
            "_________________________________________________________________\n",
            "flatten (Flatten)            (None, 8192)              0         \n",
            "_________________________________________________________________\n",
            "dropout (Dropout)            (None, 8192)              0         \n",
            "_________________________________________________________________\n",
            "dense (Dense)                (None, 1)                 8193      \n",
            "=================================================================\n",
            "Total params: 14,722,893\n",
            "Trainable params: 14,722,887\n",
            "Non-trainable params: 6\n",
            "_________________________________________________________________\n"
          ],
          "name": "stdout"
        }
      ]
    },
    {
      "cell_type": "code",
      "metadata": {
        "id": "lHV6BlT3xDZp"
      },
      "source": [
        "early_stop = EarlyStopping(patience=4,monitor='val_loss')\n",
        "modelcheckpoints = ModelCheckpoint(filepath='trainmodel.hdf5',save_best_only=True,save_weights_only=True)"
      ],
      "execution_count": 13,
      "outputs": []
    },
    {
      "cell_type": "code",
      "metadata": {
        "id": "ON-qsh0KyOFQ"
      },
      "source": [
        "STEP_SIZE_TRAIN=train_generator.n//train_generator.batch_size\n",
        "STEP_SIZE_VALID=validation_generator.n//validation_generator.batch_size\n",
        "STEP_SIZE_TEST=test_generator.n//test_generator.batch_size"
      ],
      "execution_count": 14,
      "outputs": []
    },
    {
      "cell_type": "code",
      "metadata": {
        "colab": {
          "base_uri": "https://localhost:8080/"
        },
        "id": "KTryuCZuyXkR",
        "outputId": "9fb3c3d9-235e-499f-92e5-51a114e3bb52"
      },
      "source": [
        "model.fit(train_generator,\n",
        "          steps_per_epoch=STEP_SIZE_TRAIN,\n",
        "          validation_data=validation_generator,\n",
        "          validation_steps=STEP_SIZE_VALID,\n",
        "          epochs=20,\n",
        "          callbacks=[early_stop,modelcheckpoints]\n",
        ")"
      ],
      "execution_count": 33,
      "outputs": [
        {
          "output_type": "stream",
          "text": [
            "Epoch 1/20\n",
            "53/53 [==============================] - 48s 901ms/step - loss: 0.1942 - accuracy: 0.9241 - val_loss: 0.2190 - val_accuracy: 0.9219\n",
            "Epoch 2/20\n",
            "53/53 [==============================] - 47s 882ms/step - loss: 0.1760 - accuracy: 0.9300 - val_loss: 0.2177 - val_accuracy: 0.9132\n",
            "Epoch 3/20\n",
            "53/53 [==============================] - 48s 895ms/step - loss: 0.2021 - accuracy: 0.9199 - val_loss: 0.2397 - val_accuracy: 0.8993\n",
            "Epoch 4/20\n",
            "53/53 [==============================] - 47s 885ms/step - loss: 0.1668 - accuracy: 0.9336 - val_loss: 0.2467 - val_accuracy: 0.9062\n",
            "Epoch 5/20\n",
            "53/53 [==============================] - 47s 882ms/step - loss: 0.1704 - accuracy: 0.9321 - val_loss: 0.2386 - val_accuracy: 0.9062\n",
            "Epoch 6/20\n",
            "53/53 [==============================] - 47s 886ms/step - loss: 0.1806 - accuracy: 0.9283 - val_loss: 0.2434 - val_accuracy: 0.9097\n"
          ],
          "name": "stdout"
        },
        {
          "output_type": "execute_result",
          "data": {
            "text/plain": [
              "<tensorflow.python.keras.callbacks.History at 0x7fe5d15bc358>"
            ]
          },
          "metadata": {
            "tags": []
          },
          "execution_count": 33
        }
      ]
    },
    {
      "cell_type": "code",
      "metadata": {
        "id": "CRZtgoPvyd-t"
      },
      "source": [
        "test_generator.reset()\n",
        "result = model.predict_generator(test_generator,\n",
        "                                steps=STEP_SIZE_TEST)"
      ],
      "execution_count": 34,
      "outputs": []
    },
    {
      "cell_type": "code",
      "metadata": {
        "id": "vP3RMHeSv01W"
      },
      "source": [
        "sample_sub['Label'] = result\n",
        "# sample_sub.drop('Unnamed: 1',1,inplace=True)\n",
        "sample_sub.to_csv('/content/drive/MyDrive/MIIA Porthole/sub4.csv',index=False)"
      ],
      "execution_count": 35,
      "outputs": []
    },
    {
      "cell_type": "code",
      "metadata": {
        "id": "AtrhFXSm2L0J"
      },
      "source": [
        ""
      ],
      "execution_count": null,
      "outputs": []
    }
  ]
}